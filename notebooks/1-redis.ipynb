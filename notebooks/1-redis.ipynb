{
 "cells": [
  {
   "cell_type": "markdown",
   "metadata": {},
   "source": [
    "# Redis tutorial"
   ]
  },
  {
   "cell_type": "markdown",
   "metadata": {},
   "source": [
    "## Prerequisites"
   ]
  },
  {
   "cell_type": "code",
   "execution_count": 1,
   "metadata": {},
   "outputs": [
    {
     "name": "stdout",
     "output_type": "stream",
     "text": [
      "\u001b[1;32m●\u001b[0m redis-server.service - Advanced key-value store\n",
      "   Loaded: loaded (/lib/systemd/system/redis-server.service; enabled)\n",
      "   Active: \u001b[1;32mactive (running)\u001b[0m since Wed 2019-02-06 14:06:52 GMT; 2min 45s ago\n",
      "  Process: 403 ExecStart=/usr/bin/redis-server /etc/redis/redis.conf (code=exited, status=0/SUCCESS)\n",
      " Main PID: 436 (redis-server)\n",
      "   CGroup: /system.slice/redis-server.service\n",
      "           └─436 /usr/bin/redis-server 127.0.0.1:6379\n",
      "\n",
      "Feb 06 14:06:52 nosql systemd[1]: Starting Advanced key-value store...\n",
      "Feb 06 14:06:52 nosql systemd[1]: Started Advanced key-value store.\n"
     ]
    }
   ],
   "source": [
    "!sudo service redis-server status"
   ]
  },
  {
   "cell_type": "code",
   "execution_count": 2,
   "metadata": {},
   "outputs": [],
   "source": [
    "import redis"
   ]
  },
  {
   "cell_type": "code",
   "execution_count": 3,
   "metadata": {},
   "outputs": [],
   "source": [
    "r = redis.Redis(host='localhost', port=6379)"
   ]
  },
  {
   "cell_type": "code",
   "execution_count": 4,
   "metadata": {},
   "outputs": [
    {
     "name": "stdout",
     "output_type": "stream",
     "text": [
      "b'bar'\n"
     ]
    }
   ],
   "source": [
    "r.set('foo', 'bar')\n",
    "value = r.get('foo')\n",
    "print(value)"
   ]
  },
  {
   "cell_type": "markdown",
   "metadata": {},
   "source": [
    "## I. Quick start"
   ]
  },
  {
   "cell_type": "markdown",
   "metadata": {},
   "source": [
    "**Q** : Stockez la chaine de caractère 'hello world' dans la clé `greetings` avec la commande `SET`. Utilisez la commande `GET` pour consulter la valeur.\n",
    "\n",
    "Redis ne propose pas de type de valeur pour les nombres, mais permet d’interpréter une chaîne de caractère comme tel."
   ]
  },
  {
   "cell_type": "code",
   "execution_count": null,
   "metadata": {},
   "outputs": [],
   "source": []
  },
  {
   "cell_type": "markdown",
   "metadata": {},
   "source": [
    "**Q** : Créez une clé `connections` avec la valeur 0. Utilisez la commande `INCR` pour l’incrémenter plusieurs fois, et consulter la valeur. Essayez d’incrémenter la valeur de `greetings`."
   ]
  },
  {
   "cell_type": "code",
   "execution_count": null,
   "metadata": {},
   "outputs": [],
   "source": []
  }
 ],
 "metadata": {
  "kernelspec": {
   "display_name": "Python 3",
   "language": "python",
   "name": "python3"
  },
  "language_info": {
   "codemirror_mode": {
    "name": "ipython",
    "version": 3
   },
   "file_extension": ".py",
   "mimetype": "text/x-python",
   "name": "python",
   "nbconvert_exporter": "python",
   "pygments_lexer": "ipython3",
   "version": "3.6.8"
  }
 },
 "nbformat": 4,
 "nbformat_minor": 2
}
