{
 "cells": [
  {
   "cell_type": "markdown",
   "metadata": {},
   "source": [
    "# Neo4j tutorial"
   ]
  },
  {
   "cell_type": "markdown",
   "metadata": {},
   "source": [
    "## Prerequisites"
   ]
  },
  {
   "cell_type": "code",
   "execution_count": 3,
   "metadata": {},
   "outputs": [
    {
     "name": "stdout",
     "output_type": "stream",
     "text": [
      "\u001b[1;32m●\u001b[0m neo4j.service - Neo4j Graph Database\n",
      "   Loaded: loaded (/lib/systemd/system/neo4j.service; disabled)\n",
      "   Active: \u001b[1;32mactive (running)\u001b[0m since Wed 2019-02-06 14:22:16 GMT; 1s ago\n",
      " Main PID: 1624 (java)\n",
      "   CGroup: /system.slice/neo4j.service\n",
      "           └─1624 /usr/bin/java -cp /var/lib/neo4j/plugins:/etc/neo4j:/usr/sh...\n",
      "\n",
      "Feb 06 14:22:16 nosql systemd[1]: Started Neo4j Graph Database.\n",
      "Feb 06 14:22:16 nosql neo4j[1624]: Active database: graph.db\n",
      "Feb 06 14:22:16 nosql neo4j[1624]: Directories in use:\n",
      "Feb 06 14:22:16 nosql neo4j[1624]: home:         /var/lib/neo4j\n",
      "Feb 06 14:22:16 nosql neo4j[1624]: config:       /etc/neo4j\n",
      "Feb 06 14:22:16 nosql neo4j[1624]: logs:         /var/log/neo4j\n",
      "Feb 06 14:22:16 nosql neo4j[1624]: plugins:      /var/lib/neo4j/plugins\n",
      "Feb 06 14:22:16 nosql neo4j[1624]: import:       /var/lib/neo4j/import\n",
      "Feb 06 14:22:16 nosql neo4j[1624]: data:         /var/lib/neo4j/data\n",
      "Feb 06 14:22:16 nosql neo4j[1624]: certificates: /var/lib/neo4j/certificates\n",
      "Feb 06 14:22:16 nosql neo4j[1624]: run:          /var/run/neo4j\n",
      "Feb 06 14:22:16 nosql neo4j[1624]: Starting Neo4j.\n",
      "Feb 06 14:22:17 nosql neo4j[1624]: 2019-02-06 14:22:17.599+0000 INFO  =====...==\n",
      "Feb 06 14:22:17 nosql neo4j[1624]: 2019-02-06 14:22:17.609+0000 INFO  Start.....\n",
      "Hint: Some lines were ellipsized, use -l to show in full.\n"
     ]
    }
   ],
   "source": [
    "!sudo service neo4j status"
   ]
  },
  {
   "cell_type": "code",
   "execution_count": 4,
   "metadata": {},
   "outputs": [],
   "source": [
    "from neo4j import GraphDatabase"
   ]
  },
  {
   "cell_type": "markdown",
   "metadata": {},
   "source": [
    "## I. Quick start"
   ]
  },
  {
   "cell_type": "code",
   "execution_count": null,
   "metadata": {},
   "outputs": [],
   "source": []
  }
 ],
 "metadata": {
  "kernelspec": {
   "display_name": "Python 3",
   "language": "python",
   "name": "python3"
  },
  "language_info": {
   "codemirror_mode": {
    "name": "ipython",
    "version": 3
   },
   "file_extension": ".py",
   "mimetype": "text/x-python",
   "name": "python",
   "nbconvert_exporter": "python",
   "pygments_lexer": "ipython3",
   "version": "3.6.8"
  }
 },
 "nbformat": 4,
 "nbformat_minor": 2
}
