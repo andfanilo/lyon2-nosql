{
 "cells": [
  {
   "cell_type": "markdown",
   "metadata": {},
   "source": [
    "# OrientDB tutorial"
   ]
  },
  {
   "cell_type": "markdown",
   "metadata": {},
   "source": [
    "## Prerequisites"
   ]
  },
  {
   "cell_type": "markdown",
   "metadata": {},
   "source": [
    "To run Orientdb :\n",
    "* Open a terminal\n",
    "* In the terminal :\n",
    "```bash\n",
    "cd /opt/orientdb\n",
    "./bin/server.sh\n",
    "```\n",
    "* On the terminal, you will be prompted to define your `root` password. Choose one as long as you remember it :)"
   ]
  },
  {
   "cell_type": "markdown",
   "metadata": {},
   "source": [
    "### Documentation\n",
    "\n",
    "You will find all documentation for :\n",
    "* [OrientDB SQL reference](http://www.orientdb.com/docs/last/SQL-Functions.html)\n",
    "* [Orientdb python client](http://orientdb.com/docs/last/PyOrient-Client.html#working-with-the-client)"
   ]
  },
  {
   "cell_type": "markdown",
   "metadata": {},
   "source": [
    "## Import libraries"
   ]
  },
  {
   "cell_type": "code",
   "execution_count": 1,
   "metadata": {},
   "outputs": [],
   "source": [
    "import pyorient"
   ]
  },
  {
   "cell_type": "code",
   "execution_count": 2,
   "metadata": {},
   "outputs": [],
   "source": [
    "ROOT_PASSWORD = \"root\"\n",
    "client = pyorient.OrientDB(\"localhost\", 2424)\n",
    "session_id = client.connect(\"root\", ROOT_PASSWORD)"
   ]
  },
  {
   "cell_type": "code",
   "execution_count": 3,
   "metadata": {},
   "outputs": [
    {
     "name": "stdout",
     "output_type": "stream",
     "text": [
      "{{'databases': {'GratefulDeadConcerts': 'plocal:/opt/orientdb/databases/GratefulDeadConcerts'}}}\n"
     ]
    }
   ],
   "source": [
    "print(client.db_list())"
   ]
  },
  {
   "cell_type": "markdown",
   "metadata": {},
   "source": [
    "## I. Quick start"
   ]
  },
  {
   "cell_type": "markdown",
   "metadata": {},
   "source": [
    "### Creating the database"
   ]
  },
  {
   "cell_type": "markdown",
   "metadata": {},
   "source": [
    "**Q:** Create a database `gods` as a `GRAPH_DATABASE` in `MEMORY_STORAGE_TYPE`. \n",
    "\n",
    "We will use it to store relationships between Greek deities."
   ]
  },
  {
   "cell_type": "code",
   "execution_count": 4,
   "metadata": {},
   "outputs": [],
   "source": [
    "client.db_create(\"gods\", pyorient.DB_TYPE_GRAPH, pyorient.STORAGE_TYPE_MEMORY)"
   ]
  },
  {
   "cell_type": "markdown",
   "metadata": {},
   "source": [
    "**Q:** Connect your pyorient client to the `gods` database."
   ]
  },
  {
   "cell_type": "code",
   "execution_count": 5,
   "metadata": {},
   "outputs": [
    {
     "data": {
      "text/plain": [
       "[<pyorient.otypes.OrientCluster at 0x7faeca79b898>,\n",
       " <pyorient.otypes.OrientCluster at 0x7faeca7a3c18>,\n",
       " <pyorient.otypes.OrientCluster at 0x7faeca7a3be0>,\n",
       " <pyorient.otypes.OrientCluster at 0x7faeca7a3c50>,\n",
       " <pyorient.otypes.OrientCluster at 0x7faeca7a3c88>,\n",
       " <pyorient.otypes.OrientCluster at 0x7faeca7a3cc0>,\n",
       " <pyorient.otypes.OrientCluster at 0x7faeca7a3cf8>,\n",
       " <pyorient.otypes.OrientCluster at 0x7faeca7a3d30>,\n",
       " <pyorient.otypes.OrientCluster at 0x7faeca7a3d68>,\n",
       " <pyorient.otypes.OrientCluster at 0x7faeca7a3da0>,\n",
       " <pyorient.otypes.OrientCluster at 0x7faeca7a3dd8>,\n",
       " <pyorient.otypes.OrientCluster at 0x7faeca7a3e10>,\n",
       " <pyorient.otypes.OrientCluster at 0x7faeca7a3e48>]"
      ]
     },
     "execution_count": 5,
     "metadata": {},
     "output_type": "execute_result"
    }
   ],
   "source": [
    "client.db_open( \"gods\", \"root\", ROOT_PASSWORD) "
   ]
  },
  {
   "cell_type": "markdown",
   "metadata": {},
   "source": [
    "**Q:** You should now be able to launch OrientDB queries through the Python client with the [command()](http://orientdb.com/docs/last/PyOrient-Client-Command.html) function. \n",
    "\n",
    "You should think of OrientDB as a Graph-Document database for the following questions. Each vertex and edge will contain information on it inside a JSON document.\n",
    "\n",
    "Create a new Vertex with content `{name: 'Zeus', symbol: 'thunder'}`. The [CREATE VERTEX : Create a vertex using JSON content](http://orientdb.com/docs/last/SQL-Create-Vertex.html) doc page should help you."
   ]
  },
  {
   "cell_type": "code",
   "execution_count": 6,
   "metadata": {},
   "outputs": [
    {
     "data": {
      "text/plain": [
       "[<pyorient.otypes.OrientRecord at 0x7faeca7b6ba8>]"
      ]
     },
     "execution_count": 6,
     "metadata": {},
     "output_type": "execute_result"
    }
   ],
   "source": [
    "client.command(\"create vertex content {name: 'Zeus', symbol: 'thunder'}\") "
   ]
  },
  {
   "cell_type": "markdown",
   "metadata": {},
   "source": [
    "You have created a VERTEX in the previous question. The VERTEX is a [class](https://orientdb.com/docs/last/Tutorial-Classes.html) of OrientDB which defines a record that can be linked to others through EDGE instances.\n",
    "\n",
    "You can find all VERTEX created in the database with a SQL command on the `V` table, like `SELECT * FROM V`. \n",
    "\n",
    "**Q:** Print all current vertices in `gods`, it should only have `Zeus` though for now."
   ]
  },
  {
   "cell_type": "code",
   "execution_count": 7,
   "metadata": {},
   "outputs": [
    {
     "name": "stdout",
     "output_type": "stream",
     "text": [
      "{'@V':{'name': 'Zeus', 'symbol': 'thunder'},'version':1,'rid':'#9:0'}\n"
     ]
    }
   ],
   "source": [
    "for val in client.command(\"SELECT * FROM V\"):\n",
    "    print(val)"
   ]
  },
  {
   "cell_type": "markdown",
   "metadata": {},
   "source": [
    "**Q:** Create new vertices with content : \n",
    "```\n",
    "{name:Héra, symbol:tiara}\n",
    "{name:Poséidon, symbol:trident}\n",
    "{name:Athena, symbol:helmet}\n",
    "{name:Arès, symbol:weapons} \n",
    "```"
   ]
  },
  {
   "cell_type": "code",
   "execution_count": 8,
   "metadata": {},
   "outputs": [
    {
     "data": {
      "text/plain": [
       "[<pyorient.otypes.OrientRecord at 0x7faeca536fd0>]"
      ]
     },
     "execution_count": 8,
     "metadata": {},
     "output_type": "execute_result"
    }
   ],
   "source": [
    "client.command(\"create vertex content {name:'Héra', symbol:'tiara'}\")\n",
    "client.command(\"create vertex content {name:'Poséidon', symbol:'trident'}\") \n",
    "client.command(\"create vertex content {name:'Athena', symbol:'helmet'}\")\n",
    "client.command(\"create vertex content {name:'Arès', symbol:'weapons'} \") "
   ]
  },
  {
   "cell_type": "markdown",
   "metadata": {},
   "source": [
    "**Q:** Display all vertices with name = `Arès`"
   ]
  },
  {
   "cell_type": "code",
   "execution_count": 9,
   "metadata": {},
   "outputs": [
    {
     "name": "stdout",
     "output_type": "stream",
     "text": [
      "{'@V':{'name': 'Arès', 'symbol': 'weapons'},'version':1,'rid':'#9:2'}\n"
     ]
    }
   ],
   "source": [
    "for val in client.command(\"SELECT * FROM V WHERE name = 'Arès'\"):\n",
    "    print(val)"
   ]
  },
  {
   "cell_type": "markdown",
   "metadata": {},
   "source": [
    "**Q:** Create an EDGE from `Zeus` to `Poséidon` with the content `{kind: 'sibling'}"
   ]
  },
  {
   "cell_type": "code",
   "execution_count": 10,
   "metadata": {},
   "outputs": [
    {
     "data": {
      "text/plain": [
       "[<pyorient.otypes.OrientRecord at 0x7faeca54b0f0>]"
      ]
     },
     "execution_count": 10,
     "metadata": {},
     "output_type": "execute_result"
    }
   ],
   "source": [
    "client.command(\"create edge from #9:0 to #9:1 content {kind: 'sibling'}\")"
   ]
  },
  {
   "cell_type": "markdown",
   "metadata": {},
   "source": [
    "**Q:** Redisplay all vertices, discuss."
   ]
  },
  {
   "cell_type": "code",
   "execution_count": 11,
   "metadata": {},
   "outputs": [
    {
     "name": "stdout",
     "output_type": "stream",
     "text": [
      "{'@V':{'name': 'Zeus', 'symbol': 'thunder', 'out_': <pyorient.otypes.OrientBinaryObject object at 0x7faeca54b908>},'version':2,'rid':'#9:0'}\n",
      "{'@V':{'name': 'Poséidon', 'symbol': 'trident', 'in_': <pyorient.otypes.OrientBinaryObject object at 0x7faeca54ba90>},'version':2,'rid':'#9:1'}\n",
      "{'@V':{'name': 'Arès', 'symbol': 'weapons'},'version':1,'rid':'#9:2'}\n",
      "{'@V':{'name': 'Héra', 'symbol': 'tiara'},'version':1,'rid':'#10:0'}\n",
      "{'@V':{'name': 'Athena', 'symbol': 'helmet'},'version':1,'rid':'#10:1'}\n"
     ]
    }
   ],
   "source": [
    "for val in client.command(\"SELECT * FROM V\"):\n",
    "    print(val)"
   ]
  },
  {
   "cell_type": "markdown",
   "metadata": {},
   "source": [
    "**Q:** Display all edges. They are contained in the class `E`"
   ]
  },
  {
   "cell_type": "code",
   "execution_count": 12,
   "metadata": {},
   "outputs": [
    {
     "name": "stdout",
     "output_type": "stream",
     "text": [
      "{'@E':{'kind': 'sibling', 'out': <pyorient.otypes.OrientRecordLink object at 0x7faeca54bba8>, 'in': <pyorient.otypes.OrientRecordLink object at 0x7faeca54bb00>},'version':1,'rid':'#11:0'}\n"
     ]
    }
   ],
   "source": [
    "for val in client.command(\"SELECT * FROM E\"):\n",
    "    print(val)"
   ]
  },
  {
   "cell_type": "markdown",
   "metadata": {},
   "source": [
    "Two fields on vertices have appeared, containing the outgoing (out_) and incoming (in_) links.\n",
    "\n",
    "At the edge level, two fields point to the original (out) and destination (in) vertices.\n",
    "\n",
    "**Q:** Lets create some more edges :\n",
    "\n",
    "* Zeus > Héra (sibling)\n",
    "* Zeus > Arès (father)\n",
    "* Zeus > Athena (father)\n",
    "* Héra > Arès (mother)\n",
    "* Héra > Zeus (sibling)\n",
    "* Poséidon > Zeus (sibling)\n",
    "\n",
    "_Hint 1 :_ check [the CREATE EDGE doc page](http://orientdb.com/docs/last/SQL-Create-Edge.html) to find an example for creating edges on vertices using subqueries so you can run queries to fetch the vertices before creating an edge in between.\n",
    "\n",
    "_Hint 2 :_ after you have found the command to create edges between vertices with sub-queries, you should be well-versed enough in Python to create a list of all edges in the question, and loop the command on each element of the list to create all edges in one go =)"
   ]
  },
  {
   "cell_type": "code",
   "execution_count": 13,
   "metadata": {},
   "outputs": [
    {
     "name": "stdout",
     "output_type": "stream",
     "text": [
      "create edge from (select from V where name = 'Zeus') to (select from V where name = 'Héra') content {kind: 'sibling'}\n",
      "create edge from (select from V where name = 'Zeus') to (select from V where name = 'Arès') content {kind: 'father'}\n",
      "create edge from (select from V where name = 'Zeus') to (select from V where name = 'Athena') content {kind: 'father'}\n",
      "create edge from (select from V where name = 'Héra') to (select from V where name = 'Arès') content {kind: 'mother'}\n",
      "create edge from (select from V where name = 'Héra') to (select from V where name = 'Zeus') content {kind: 'sibling'}\n",
      "create edge from (select from V where name = 'Poséidon') to (select from V where name = 'Zeus') content {kind: 'sibling'}\n"
     ]
    }
   ],
   "source": [
    "for i,o,c in [\n",
    "    ('Zeus','Héra','sibling'),\n",
    "    ('Zeus','Arès','father'),\n",
    "    ('Zeus','Athena','father'),\n",
    "    ('Héra','Arès','mother'),\n",
    "    ('Héra','Zeus','sibling'),\n",
    "    ('Poséidon','Zeus','sibling')\n",
    "]:\n",
    "    command=f\"create edge from (select from V where name = '{i}') to (select from V where name = '{o}') content {{kind: '{c}'}}\"\n",
    "    print(command)\n",
    "    client.command(command)"
   ]
  },
  {
   "cell_type": "markdown",
   "metadata": {},
   "source": [
    "### Looking for data"
   ]
  },
  {
   "cell_type": "markdown",
   "metadata": {},
   "source": [
    "**Q:** Using [out()](http://orientdb.com/docs/last/Tutorial-Working-with-graphs.html#querying-graphs) function, display all vertices connected and outgoing from Zeus.\n",
    "\n",
    "You should use the EXPAND() special function to transform the vertex collection in the result-set by expanding it, making the results more readable."
   ]
  },
  {
   "cell_type": "code",
   "execution_count": 14,
   "metadata": {},
   "outputs": [
    {
     "name": "stdout",
     "output_type": "stream",
     "text": [
      "{{'out': [<pyorient.otypes.OrientRecordLink object at 0x7faeca555550>, <pyorient.otypes.OrientRecordLink object at 0x7faeca5555c0>, <pyorient.otypes.OrientRecordLink object at 0x7faeca555668>, <pyorient.otypes.OrientRecordLink object at 0x7faeca5556d8>]},'version':0,'rid':'#-2:0'}\n"
     ]
    }
   ],
   "source": [
    "for val in client.command(\"select out() from V where name = 'Zeus'\"):\n",
    "    print(val)"
   ]
  },
  {
   "cell_type": "code",
   "execution_count": 15,
   "metadata": {},
   "outputs": [
    {
     "name": "stdout",
     "output_type": "stream",
     "text": [
      "{'@V':{'name': 'Poséidon', 'symbol': 'trident', 'in_': <pyorient.otypes.OrientBinaryObject object at 0x7faeca555908>, 'out_': <pyorient.otypes.OrientBinaryObject object at 0x7faeca5558d0>},'version':3,'rid':'#9:1'}\n",
      "{'@V':{'out_': <pyorient.otypes.OrientBinaryObject object at 0x7faeca5550f0>, 'name': 'Héra', 'symbol': 'tiara', 'in_': <pyorient.otypes.OrientBinaryObject object at 0x7faeca555208>},'version':4,'rid':'#10:0'}\n",
      "{'@V':{'in_': <pyorient.otypes.OrientBinaryObject object at 0x7faeca5552e8>, 'name': 'Arès', 'symbol': 'weapons'},'version':3,'rid':'#9:2'}\n",
      "{'@V':{'name': 'Athena', 'symbol': 'helmet', 'in_': <pyorient.otypes.OrientBinaryObject object at 0x7faeca555cc0>},'version':2,'rid':'#10:1'}\n"
     ]
    }
   ],
   "source": [
    "for val in client.command(\"select expand(out()) from V where name = 'Zeus'\"):\n",
    "    print(val)"
   ]
  },
  {
   "cell_type": "markdown",
   "metadata": {},
   "source": [
    "**Q:** Display all vertices which got a father (the vertices which are the destination of an arc whose kind attribute is father).\n",
    "\n",
    "_Hint: You can notice that we use the field `in` the arc, and not the function `in()` which applies to vertices._"
   ]
  },
  {
   "cell_type": "code",
   "execution_count": 16,
   "metadata": {},
   "outputs": [
    {
     "name": "stdout",
     "output_type": "stream",
     "text": [
      "{'@V':{'in_': <pyorient.otypes.OrientBinaryObject object at 0x7faeca555160>, 'name': 'Arès', 'symbol': 'weapons'},'version':3,'rid':'#9:2'}\n",
      "{'@V':{'name': 'Athena', 'symbol': 'helmet', 'in_': <pyorient.otypes.OrientBinaryObject object at 0x7faeca555550>},'version':2,'rid':'#10:1'}\n"
     ]
    }
   ],
   "source": [
    "for val in client.command(\"select expand(in) from E where kind = 'father'\"):\n",
    "    print(val)"
   ]
  },
  {
   "cell_type": "markdown",
   "metadata": {},
   "source": [
    "**Q:** As in SQL, the operator `in` used in a clause `where` allows to restrict the possible values with an embedded query _(where ... in (select ...))_. \n",
    "\n",
    "Display the mothers, by displaying the vertices where an outgoing arc is part of the arcs where kind is a mother."
   ]
  },
  {
   "cell_type": "code",
   "execution_count": 17,
   "metadata": {},
   "outputs": [
    {
     "name": "stdout",
     "output_type": "stream",
     "text": [
      "{'@V':{'out_': <pyorient.otypes.OrientBinaryObject object at 0x7faeca5555f8>, 'name': 'Héra', 'symbol': 'tiara', 'in_': <pyorient.otypes.OrientBinaryObject object at 0x7faeca5556a0>},'version':4,'rid':'#10:0'}\n"
     ]
    }
   ],
   "source": [
    "for val in client.command(\"select from V where out_ in (select from E where kind = 'mother')\"):\n",
    "    print(val)"
   ]
  },
  {
   "cell_type": "markdown",
   "metadata": {},
   "source": [
    "**Q:** Display the brothers and sisters of Zeus (the destination summits of an arc whose kind is sibling and whose original summit is Zeus)."
   ]
  },
  {
   "cell_type": "code",
   "execution_count": 18,
   "metadata": {},
   "outputs": [
    {
     "name": "stdout",
     "output_type": "stream",
     "text": [
      "{'@V':{'name': 'Poséidon', 'symbol': 'trident', 'in_': <pyorient.otypes.OrientBinaryObject object at 0x7faeca54b3c8>, 'out_': <pyorient.otypes.OrientBinaryObject object at 0x7faeca54ba20>},'version':3,'rid':'#9:1'}\n",
      "{'@V':{'out_': <pyorient.otypes.OrientBinaryObject object at 0x7faeca54be80>, 'name': 'Héra', 'symbol': 'tiara', 'in_': <pyorient.otypes.OrientBinaryObject object at 0x7faeca54b4a8>},'version':4,'rid':'#10:0'}\n"
     ]
    }
   ],
   "source": [
    "for val in client.command(\"select expand(in) from E where kind = 'sibling' and out in (select from V where name = 'Zeus')\"):\n",
    "    print(val)"
   ]
  },
  {
   "cell_type": "markdown",
   "metadata": {},
   "source": [
    "## Modeling a Product Recommendation System"
   ]
  },
  {
   "cell_type": "markdown",
   "metadata": {},
   "source": [
    "You are currently modeling the data of a product recommendation system with OrientDB.\n",
    "\n",
    "The main purpose of such a system is to answer the question \"which products were purchased by their people who purchased product X? »\n",
    "\n",
    "Purchased products have only one name field. They are purchased by people who have a nickname.\n",
    "\n",
    "When a person buys a product, the date of purchase is stored. \n",
    "\n",
    "Instead of working with \"anonymous\" vertices and arcs, you will use classes. The `create class` command allows you to create custom classes.\n",
    "\n",
    "The vertex classes must extend V, the arc classes must extend E."
   ]
  },
  {
   "cell_type": "markdown",
   "metadata": {},
   "source": [
    "**Q:** Create an `eCommerce` database, and the necessary classes to model the system.\n",
    "\n",
    "PS : you can view all classes in the database with :\n",
    "\n",
    "```python\n",
    "for name in client.command(\"SELECT name FROM (SELECT expand(classes) FROM metadata:schema)\"):\n",
    "    print(name)\n",
    "```"
   ]
  },
  {
   "cell_type": "code",
   "execution_count": 19,
   "metadata": {},
   "outputs": [
    {
     "name": "stdout",
     "output_type": "stream",
     "text": [
      "{{'name': 'OTriggered'},'version':0,'rid':'#-2:0'}\n",
      "{{'name': 'OIdentity'},'version':0,'rid':'#-2:1'}\n",
      "{{'name': 'Bought'},'version':0,'rid':'#-2:2'}\n",
      "{{'name': 'OUser'},'version':0,'rid':'#-2:3'}\n",
      "{{'name': 'V'},'version':0,'rid':'#-2:4'}\n",
      "{{'name': 'E'},'version':0,'rid':'#-2:5'}\n",
      "{{'name': 'ORestricted'},'version':0,'rid':'#-2:6'}\n",
      "{{'name': 'OFunction'},'version':0,'rid':'#-2:7'}\n",
      "{{'name': 'OSchedule'},'version':0,'rid':'#-2:8'}\n",
      "{{'name': 'Product'},'version':0,'rid':'#-2:9'}\n",
      "{{'name': 'OSequence'},'version':0,'rid':'#-2:10'}\n",
      "{{'name': 'Person'},'version':0,'rid':'#-2:11'}\n",
      "{{'name': 'ORole'},'version':0,'rid':'#-2:12'}\n"
     ]
    }
   ],
   "source": [
    "client.db_create(\"eCommerce\", pyorient.DB_TYPE_GRAPH, pyorient.STORAGE_TYPE_MEMORY)\n",
    "client.db_open( \"eCommerce\", \"root\", ROOT_PASSWORD) \n",
    "\n",
    "client.command(\"create class Product extends V\")\n",
    "client.command(\"create class Person extends V\")\n",
    "client.command(\"create class Bought extends E\")\n",
    "\n",
    "for v in client.command(\"SELECT name FROM (SELECT expand(classes) FROM metadata:schema)\"):\n",
    "    print(v)"
   ]
  },
  {
   "cell_type": "markdown",
   "metadata": {},
   "source": [
    "**Q:** Create the following products: `spaghetti`, `bolognese sauce`, `cheese`, `apple`."
   ]
  },
  {
   "cell_type": "code",
   "execution_count": 20,
   "metadata": {},
   "outputs": [],
   "source": [
    "for p in [\"spaghetti\", \"bolognese sauce\", \"cheese\", \"apple\"]:\n",
    "    client.command(f\"create vertex product content {{name: '{p}'}}\")"
   ]
  },
  {
   "cell_type": "markdown",
   "metadata": {},
   "source": [
    "**Q:** Create the following people: `peter`, `meredith`."
   ]
  },
  {
   "cell_type": "code",
   "execution_count": 21,
   "metadata": {},
   "outputs": [],
   "source": [
    "for p in [\"peter\", \"meredith\"]:\n",
    "    client.command(f\"create vertex person content {{pseudo: '{p}'}}\")"
   ]
  },
  {
   "cell_type": "markdown",
   "metadata": {},
   "source": [
    "**Q:** Create the following purchases: \n",
    "- peter > spaghetti + cheese on 20/01/2016 \n",
    "- meredith > cheese + apple + bolognese sauce on 22/01/2016\n",
    "- peter > spaghetti + bolognese sauce on 27/01/2016\n"
   ]
  },
  {
   "cell_type": "code",
   "execution_count": 22,
   "metadata": {},
   "outputs": [
    {
     "name": "stdout",
     "output_type": "stream",
     "text": [
      "create edge bought from (select from person where pseudo = 'peter') to (select from product where name = 'spaghetti') content {date: '20/01/2016'}\n",
      "create edge bought from (select from person where pseudo = 'peter') to (select from product where name = 'cheese') content {date: '20/01/2016'}\n",
      "create edge bought from (select from person where pseudo = 'meredith') to (select from product where name = 'cheese') content {date: '22/01/2016'}\n",
      "create edge bought from (select from person where pseudo = 'meredith') to (select from product where name = 'apple') content {date: '22/01/2016'}\n",
      "create edge bought from (select from person where pseudo = 'meredith') to (select from product where name = 'bolognese sauce') content {date: '22/01/2016'}\n",
      "create edge bought from (select from person where pseudo = 'peter') to (select from product where name = 'spaghetti') content {date: '27/01/2016'}\n",
      "create edge bought from (select from person where pseudo = 'peter') to (select from product where name = 'bolognese sauce') content {date: '27/01/2016'}\n"
     ]
    }
   ],
   "source": [
    "for person,product,date in [\n",
    "    ('peter','spaghetti','20/01/2016'),\n",
    "    ('peter','cheese','20/01/2016'),\n",
    "    ('meredith','cheese','22/01/2016'),\n",
    "    ('meredith','apple','22/01/2016'),\n",
    "    ('meredith','bolognese sauce','22/01/2016'),\n",
    "    ('peter','spaghetti','27/01/2016'),\n",
    "    ('peter','bolognese sauce','27/01/2016')\n",
    "]:\n",
    "    command=f\"create edge bought from (select from person where pseudo = '{person}') to (select from product where name = '{product}') content {{date: '{date}'}}\"\n",
    "    print(command)\n",
    "    client.command(command)"
   ]
  },
  {
   "cell_type": "markdown",
   "metadata": {},
   "source": [
    "**Q:** Who bought Bolognese sauce?"
   ]
  },
  {
   "cell_type": "code",
   "execution_count": 23,
   "metadata": {},
   "outputs": [
    {
     "name": "stdout",
     "output_type": "stream",
     "text": [
      "{'@Person':{'out_Bought': <pyorient.otypes.OrientBinaryObject object at 0x7faeca5550f0>, 'pseudo': 'meredith'},'version':4,'rid':'#16:0'}\n",
      "{'@Person':{'out_Bought': <pyorient.otypes.OrientBinaryObject object at 0x7faeca555da0>, 'pseudo': 'peter'},'version':5,'rid':'#15:0'}\n"
     ]
    }
   ],
   "source": [
    "for val in client.command(\"select expand(in()) from Product where name = 'bolognese sauce'\"):\n",
    "    print(val)"
   ]
  },
  {
   "cell_type": "markdown",
   "metadata": {},
   "source": [
    "**Q:** It is possible to link the `out` and `in` navigation functions. What products are purchased with Bolognese sauce? "
   ]
  },
  {
   "cell_type": "code",
   "execution_count": 24,
   "metadata": {},
   "outputs": [
    {
     "name": "stdout",
     "output_type": "stream",
     "text": [
      "{'@Product':{'in_Bought': <pyorient.otypes.OrientBinaryObject object at 0x7faeca555b38>, 'name': 'cheese'},'version':3,'rid':'#13:1'}\n",
      "{'@Product':{'name': 'apple', 'in_Bought': <pyorient.otypes.OrientBinaryObject object at 0x7faeca54b550>},'version':2,'rid':'#14:1'}\n",
      "{'@Product':{'in_Bought': <pyorient.otypes.OrientBinaryObject object at 0x7faeca54be80>, 'name': 'bolognese sauce'},'version':3,'rid':'#14:0'}\n",
      "{'@Product':{'in_Bought': <pyorient.otypes.OrientBinaryObject object at 0x7faeca54bda0>, 'name': 'spaghetti'},'version':3,'rid':'#13:0'}\n",
      "{'@Product':{'in_Bought': <pyorient.otypes.OrientBinaryObject object at 0x7faeca54bdd8>, 'name': 'cheese'},'version':3,'rid':'#13:1'}\n",
      "{'@Product':{'in_Bought': <pyorient.otypes.OrientBinaryObject object at 0x7faeca5430f0>, 'name': 'spaghetti'},'version':3,'rid':'#13:0'}\n",
      "{'@Product':{'in_Bought': <pyorient.otypes.OrientBinaryObject object at 0x7faeca543278>, 'name': 'bolognese sauce'},'version':3,'rid':'#14:0'}\n"
     ]
    }
   ],
   "source": [
    "for val in client.command(\"select expand(in().out()) from Product where name = 'bolognese sauce'\"):\n",
    "    print(val)"
   ]
  },
  {
   "cell_type": "markdown",
   "metadata": {},
   "source": [
    "## Postquisites"
   ]
  },
  {
   "cell_type": "markdown",
   "metadata": {},
   "source": [
    "Since we create databases in memory, they get destroyed on server shutdown."
   ]
  }
 ],
 "metadata": {
  "kernelspec": {
   "display_name": "Python 3",
   "language": "python",
   "name": "python3"
  },
  "language_info": {
   "codemirror_mode": {
    "name": "ipython",
    "version": 3
   },
   "file_extension": ".py",
   "mimetype": "text/x-python",
   "name": "python",
   "nbconvert_exporter": "python",
   "pygments_lexer": "ipython3",
   "version": "3.6.8"
  }
 },
 "nbformat": 4,
 "nbformat_minor": 2
}
