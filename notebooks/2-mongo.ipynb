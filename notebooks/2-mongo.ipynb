{
 "cells": [
  {
   "cell_type": "markdown",
   "metadata": {},
   "source": [
    "# Mongo tutorial"
   ]
  },
  {
   "cell_type": "markdown",
   "metadata": {},
   "source": [
    "## Prerequisites"
   ]
  },
  {
   "cell_type": "markdown",
   "metadata": {},
   "source": [
    "### Server status\n",
    "\n",
    "Check the status of your Mongo cluster : `!sudo service mongod status`\n",
    "\n",
    "If the cluster is inactive, `!sudo service mongod start` to start it."
   ]
  },
  {
   "cell_type": "code",
   "execution_count": 1,
   "metadata": {},
   "outputs": [
    {
     "name": "stdout",
     "output_type": "stream",
     "text": [
      "\u001b[1;32m●\u001b[0m mongod.service - MongoDB Database Server\n",
      "   Loaded: loaded (/lib/systemd/system/mongod.service; disabled)\n",
      "   Active: \u001b[1;32mactive (running)\u001b[0m since Sun 2019-02-10 11:26:35 GMT; 3h 53min ago\n",
      "     Docs: https://docs.mongodb.org/manual\n",
      " Main PID: 1620 (mongod)\n",
      "   CGroup: /system.slice/mongod.service\n",
      "           └─1620 /usr/bin/mongod --config /etc/mongod.conf\n",
      "\n",
      "Feb 10 11:26:35 nosql systemd[1]: Started MongoDB Database Server.\n"
     ]
    }
   ],
   "source": [
    "!sudo service mongod status"
   ]
  },
  {
   "cell_type": "markdown",
   "metadata": {},
   "source": [
    "### Documentation\n",
    "\n",
    "You will find all documentation for :\n",
    "* [Mongo commands](https://docs.mongodb.com/manual/reference/)\n",
    "* [Mongo python client](http://api.mongodb.com/python/current/api/pymongo/mongo_client.html#pymongo.mongo_client.MongoClient)"
   ]
  },
  {
   "cell_type": "markdown",
   "metadata": {},
   "source": [
    "### Import libraries"
   ]
  },
  {
   "cell_type": "code",
   "execution_count": 2,
   "metadata": {},
   "outputs": [],
   "source": [
    "import datetime\n",
    "from pprint import pprint\n",
    "\n",
    "import pymongo\n",
    "from pymongo import MongoClient"
   ]
  },
  {
   "cell_type": "code",
   "execution_count": 3,
   "metadata": {},
   "outputs": [],
   "source": [
    "client = MongoClient('localhost', 27017)"
   ]
  },
  {
   "cell_type": "code",
   "execution_count": 4,
   "metadata": {},
   "outputs": [],
   "source": [
    "# let's work in a test_database\n",
    "db = client.test_database\n",
    "posts = db.posts"
   ]
  },
  {
   "cell_type": "code",
   "execution_count": 5,
   "metadata": {},
   "outputs": [
    {
     "data": {
      "text/plain": [
       "ObjectId('5c60410ea1107a07f357959b')"
      ]
     },
     "execution_count": 5,
     "metadata": {},
     "output_type": "execute_result"
    }
   ],
   "source": [
    "post = {\n",
    "    \"author\": \"Mike\",\n",
    "    \"text\": \"My first blog post!\",\n",
    "    \"tags\": [\"mongodb\", \"python\", \"pymongo\"],\n",
    "    \"date\": datetime.datetime.utcnow()\n",
    "}\n",
    "post_id = posts.insert_one(post).inserted_id\n",
    "post_id"
   ]
  },
  {
   "cell_type": "code",
   "execution_count": 6,
   "metadata": {},
   "outputs": [
    {
     "data": {
      "text/plain": [
       "['posts']"
      ]
     },
     "execution_count": 6,
     "metadata": {},
     "output_type": "execute_result"
    }
   ],
   "source": [
    "db.list_collection_names()"
   ]
  },
  {
   "cell_type": "code",
   "execution_count": 7,
   "metadata": {},
   "outputs": [
    {
     "name": "stdout",
     "output_type": "stream",
     "text": [
      "{'_id': ObjectId('5c60410ea1107a07f357959b'),\n",
      " 'author': 'Mike',\n",
      " 'date': datetime.datetime(2019, 2, 10, 15, 19, 42, 916000),\n",
      " 'tags': ['mongodb', 'python', 'pymongo'],\n",
      " 'text': 'My first blog post!'}\n"
     ]
    }
   ],
   "source": [
    "pprint(posts.find_one())"
   ]
  },
  {
   "cell_type": "markdown",
   "metadata": {},
   "source": [
    "You can launch a terminal aside, connect to your server with a mongo client and check that the value is present :\n",
    "\n",
    "```bash\n",
    "vagrant@nosql:~$ mongo\n",
    "> show databases;\n",
    "admin          0.000GB\n",
    "config         0.000GB\n",
    "local          0.000GB\n",
    "test_database  0.000GB\n",
    "> use test_database;\n",
    "switched to db test_database\n",
    "> db.posts.find()\n",
    "{ \n",
    "    \"_id\" : ObjectId(\"...\"), \n",
    "    \"author\" : \"Mike\", \n",
    "    \"text\" : \"My first blog post!\", \n",
    "    \"tags\" : [ \"mongodb\", \"python\", \"pymongo\"], \n",
    "    \"date\" : ISODate(\"2019-02-10T11:33:47.883Z\") \n",
    "}\n",
    "```"
   ]
  },
  {
   "cell_type": "markdown",
   "metadata": {},
   "source": [
    "## I. Quick start"
   ]
  },
  {
   "cell_type": "markdown",
   "metadata": {},
   "source": [
    "### First steps"
   ]
  },
  {
   "cell_type": "markdown",
   "metadata": {},
   "source": [
    "**Q** : Create a document `{msg: 'hello'}` in the `test` collection with `insert_one()`. Fetch it back to display it. What is the `_id` for ?\n",
    "\n",
    "NB : if the collection doesn't exist yet, MongoDB automatically creates it."
   ]
  },
  {
   "cell_type": "code",
   "execution_count": 8,
   "metadata": {},
   "outputs": [
    {
     "data": {
      "text/plain": [
       "<pymongo.results.InsertOneResult at 0x7f5db01c7b88>"
      ]
     },
     "execution_count": 8,
     "metadata": {},
     "output_type": "execute_result"
    }
   ],
   "source": [
    "db.test.insert_one({'msg': 'hello'})"
   ]
  },
  {
   "cell_type": "code",
   "execution_count": 9,
   "metadata": {},
   "outputs": [
    {
     "data": {
      "text/plain": [
       "{'_id': ObjectId('5c60410fa1107a07f357959c'), 'msg': 'hello'}"
      ]
     },
     "execution_count": 9,
     "metadata": {},
     "output_type": "execute_result"
    }
   ],
   "source": [
    "db.test.find_one()"
   ]
  },
  {
   "cell_type": "markdown",
   "metadata": {},
   "source": [
    "**Q**: Display the number of documents inside the `test` collection"
   ]
  },
  {
   "cell_type": "code",
   "execution_count": 10,
   "metadata": {},
   "outputs": [
    {
     "data": {
      "text/plain": [
       "1"
      ]
     },
     "execution_count": 10,
     "metadata": {},
     "output_type": "execute_result"
    }
   ],
   "source": [
    "db.test.count_documents({})"
   ]
  },
  {
   "cell_type": "markdown",
   "metadata": {},
   "source": [
    "### Interacting with a database\n",
    "\n",
    "We have 2 `.json` files we want to interact with inside the `data` folder. Let's first dump them into a `MovieLens` database, inside `users` and `movies` collections.\n",
    "\n",
    "For this section, you will need to read a bit on [query operators](https://docs.mongodb.com/manual/reference/operator/query/#query-selectors). Most methods on collections you will use have `filter` as a first parameter, on which you must pass a dictionary of query parameters."
   ]
  },
  {
   "cell_type": "markdown",
   "metadata": {},
   "source": [
    "**Q** : In the `MovieLens` database, load `data/movielens_movies.json` into `movies` and `data/movielens_users.json` into `users`. \n",
    "\n",
    "Use the dedicated shell command for this : `mongoimport --db <some_db> --collection <some_collection> --file <some_file>` "
   ]
  },
  {
   "cell_type": "code",
   "execution_count": 11,
   "metadata": {},
   "outputs": [
    {
     "name": "stdout",
     "output_type": "stream",
     "text": [
      "2019-02-10T15:19:43.198+0000\tconnected to: localhost\n",
      "2019-02-10T15:19:46.196+0000\t[#####################...] MovieLens.users\t52.4MB/58.6MB (89.4%)\n",
      "2019-02-10T15:19:46.581+0000\t[########################] MovieLens.users\t58.6MB/58.6MB (100.0%)\n",
      "2019-02-10T15:19:46.582+0000\timported 6040 documents\n"
     ]
    }
   ],
   "source": [
    "!mongoimport --db MovieLens --collection users --file ../data/movielens_users.json"
   ]
  },
  {
   "cell_type": "code",
   "execution_count": 12,
   "metadata": {},
   "outputs": [
    {
     "name": "stdout",
     "output_type": "stream",
     "text": [
      "2019-02-10T15:19:46.777+0000\tconnected to: localhost\n",
      "2019-02-10T15:19:46.858+0000\timported 3883 documents\n"
     ]
    }
   ],
   "source": [
    "!mongoimport --db MovieLens --collection movies --file ../data/movielens_movies.json"
   ]
  },
  {
   "cell_type": "markdown",
   "metadata": {},
   "source": [
    "**Q** : how many users are in the `MovieLens` database ?"
   ]
  },
  {
   "cell_type": "code",
   "execution_count": 13,
   "metadata": {},
   "outputs": [
    {
     "data": {
      "text/plain": [
       "6040"
      ]
     },
     "execution_count": 13,
     "metadata": {},
     "output_type": "execute_result"
    }
   ],
   "source": [
    "movielens_db = client.MovieLens\n",
    "users_col = movielens_db.users\n",
    "movies_col = movielens_db.movies\n",
    "\n",
    "users_col.count_documents({})"
   ]
  },
  {
   "cell_type": "markdown",
   "metadata": {},
   "source": [
    "**Q** : Display all comedies (the `genres` property equals `Comedy`). \n",
    "\n",
    "NB : You will need to find how to go through a `command_cursor`, then use the `pprint` function for a better display of those documents."
   ]
  },
  {
   "cell_type": "code",
   "execution_count": 14,
   "metadata": {},
   "outputs": [
    {
     "name": "stdout",
     "output_type": "stream",
     "text": [
      "{'_id': 5, 'genres': 'Comedy', 'title': 'Father of the Bride Part II (1995)'}\n",
      "{'_id': 19,\n",
      " 'genres': 'Comedy',\n",
      " 'title': 'Ace Ventura: When Nature Calls (1995)'}\n",
      "{'_id': 38, 'genres': 'Comedy', 'title': 'It Takes Two (1995)'}\n",
      "{'_id': 52, 'genres': 'Comedy', 'title': 'Mighty Aphrodite (1995)'}\n",
      "{'_id': 63,\n",
      " 'genres': 'Comedy',\n",
      " 'title': \"Don't Be a Menace to South Central While Drinking Your Juice in the \"\n",
      "          'Hood (1996)'}\n",
      "{'_id': 65, 'genres': 'Comedy', 'title': 'Bio-Dome (1996)'}\n",
      "{'_id': 69, 'genres': 'Comedy', 'title': 'Friday (1995)'}\n",
      "{'_id': 88, 'genres': 'Comedy', 'title': 'Black Sheep (1996)'}\n",
      "{'_id': 96, 'genres': 'Comedy', 'title': 'In the Bleak Midwinter (1995)'}\n",
      "{'_id': 101, 'genres': 'Comedy', 'title': 'Bottle Rocket (1996)'}\n"
     ]
    }
   ],
   "source": [
    "for doc in movies_col.find({'genres': 'Comedy'}, limit=10):\n",
    "    pprint(doc)"
   ]
  },
  {
   "cell_type": "markdown",
   "metadata": {},
   "source": [
    "**Q** : Fetch and display the `name` and `occupation` for Clifford Johnathan. The second paramater for `find()` ([doc here](https://api.mongodb.com/python/current/api/pymongo/collection.html#pymongo.collection.Collection.find)) is called the `projection` and is used to limit which data to fetch from the query."
   ]
  },
  {
   "cell_type": "code",
   "execution_count": 15,
   "metadata": {},
   "outputs": [
    {
     "data": {
      "text/plain": [
       "{'_id': 1276,\n",
       " 'name': 'Clifford Johnathan',\n",
       " 'occupation': 'technician/engineer'}"
      ]
     },
     "execution_count": 15,
     "metadata": {},
     "output_type": "execute_result"
    }
   ],
   "source": [
    "users_col.find({'name': 'Clifford Johnathan'}, {'name': 1, 'occupation': 1}).next()"
   ]
  },
  {
   "cell_type": "markdown",
   "metadata": {},
   "source": [
    "**Q**: How many minors (by `age`) have rated movies ?"
   ]
  },
  {
   "cell_type": "code",
   "execution_count": 16,
   "metadata": {},
   "outputs": [
    {
     "data": {
      "text/plain": [
       "222"
      ]
     },
     "execution_count": 16,
     "metadata": {},
     "output_type": "execute_result"
    }
   ],
   "source": [
    "users_col.count_documents({'age': {'$lt': 18}})"
   ]
  },
  {
   "cell_type": "markdown",
   "metadata": {},
   "source": [
    "**Q**: Display science fiction movies ('Sci-Fi') and suspense movies ('Thriller'). This time you need to use a regex to parse genres and look for those values."
   ]
  },
  {
   "cell_type": "code",
   "execution_count": 17,
   "metadata": {},
   "outputs": [
    {
     "name": "stdout",
     "output_type": "stream",
     "text": [
      "{'_id': 6, 'genres': 'Action|Crime|Thriller', 'title': 'Heat (1995)'}\n",
      "{'_id': 10, 'genres': 'Action|Adventure|Thriller', 'title': 'GoldenEye (1995)'}\n",
      "{'_id': 16, 'genres': 'Drama|Thriller', 'title': 'Casino (1995)'}\n",
      "{'_id': 18, 'genres': 'Thriller', 'title': 'Four Rooms (1995)'}\n",
      "{'_id': 22, 'genres': 'Crime|Drama|Thriller', 'title': 'Copycat (1995)'}\n",
      "{'_id': 23, 'genres': 'Thriller', 'title': 'Assassins (1995)'}\n",
      "{'_id': 24, 'genres': 'Drama|Sci-Fi', 'title': 'Powder (1995)'}\n",
      "{'_id': 29,\n",
      " 'genres': 'Adventure|Sci-Fi',\n",
      " 'title': 'City of Lost Children, The (1995)'}\n",
      "{'_id': 32, 'genres': 'Drama|Sci-Fi', 'title': 'Twelve Monkeys (1995)'}\n",
      "{'_id': 47, 'genres': 'Crime|Thriller', 'title': 'Seven (Se7en) (1995)'}\n"
     ]
    }
   ],
   "source": [
    "for doc in movies_col.find({'$or': [{'genres':{'$regex':'Thriller'}}, {'genres':{'$regex':'Sci-Fi'}}]}, limit=10):\n",
    "    pprint(doc)"
   ]
  },
  {
   "cell_type": "markdown",
   "metadata": {},
   "source": [
    "**Q**: If we want more advanced textual search, we need a particular index. Use the `create_index()` method to index as [TEXT](https://docs.mongodb.com/manual/core/index-text/) the `genres` field of the `movies` collection."
   ]
  },
  {
   "cell_type": "code",
   "execution_count": 18,
   "metadata": {},
   "outputs": [
    {
     "data": {
      "text/plain": [
       "'genres_text'"
      ]
     },
     "execution_count": 18,
     "metadata": {},
     "output_type": "execute_result"
    }
   ],
   "source": [
    "movies_col.create_index([('genres', pymongo.TEXT)])"
   ]
  },
  {
   "cell_type": "markdown",
   "metadata": {},
   "source": [
    "**Q**: Restart the search for science fiction and thriller movies with the operator `$text`"
   ]
  },
  {
   "cell_type": "code",
   "execution_count": 19,
   "metadata": {},
   "outputs": [
    {
     "name": "stdout",
     "output_type": "stream",
     "text": [
      "{'_id': 3934, 'genres': 'Sci-Fi', 'title': 'Kronos (1957)'}\n",
      "{'_id': 3878, 'genres': 'Sci-Fi', 'title': 'X: The Unknown (1956)'}\n",
      "{'_id': 3780, 'genres': 'Sci-Fi', 'title': 'Rocketship X-M (1950)'}\n",
      "{'_id': 3779, 'genres': 'Sci-Fi', 'title': 'Project Moon Base (1953)'}\n",
      "{'_id': 3687, 'genres': 'Sci-Fi', 'title': 'Light Years (1988)'}\n",
      "{'_id': 3658, 'genres': 'Sci-Fi', 'title': 'Quatermass and the Pit (1967)'}\n",
      "{'_id': 3486, 'genres': 'Sci-Fi', 'title': 'Devil Girl From Mars (1954)'}\n",
      "{'_id': 3375, 'genres': 'Sci-Fi', 'title': 'Destination Moon (1950)'}\n",
      "{'_id': 3354, 'genres': 'Sci-Fi', 'title': 'Mission to Mars (2000)'}\n",
      "{'_id': 2665,\n",
      " 'genres': 'Sci-Fi',\n",
      " 'title': 'Earth Vs. the Flying Saucers (1956)'}\n"
     ]
    }
   ],
   "source": [
    "for doc in movies_col.find({'$text':{'$search':'Sci-Fi Thriller'}}, limit=10):\n",
    "    pprint(doc)"
   ]
  },
  {
   "cell_type": "markdown",
   "metadata": {},
   "source": [
    "**Q**: Display the first 30 movies (`limit`) in alphabetical order (`sort`) by title"
   ]
  },
  {
   "cell_type": "code",
   "execution_count": 20,
   "metadata": {},
   "outputs": [
    {
     "name": "stdout",
     "output_type": "stream",
     "text": [
      "{'_id': 2031, 'genres': \"Children's|Comedy\", 'title': '$1,000,000 Duck (1971)'}\n",
      "{'_id': 3112, 'genres': 'Drama', 'title': \"'Night Mother (1986)\"}\n",
      "{'_id': 779, 'genres': 'Drama|Romance', 'title': \"'Til There Was You (1997)\"}\n",
      "{'_id': 2072, 'genres': 'Comedy', 'title': \"'burbs, The (1989)\"}\n",
      "{'_id': 3420,\n",
      " 'genres': 'Drama|Thriller',\n",
      " 'title': '...And Justice for All (1979)'}\n",
      "{'_id': 889, 'genres': 'Romance', 'title': '1-900 (1994)'}\n",
      "{'_id': 2572,\n",
      " 'genres': 'Comedy|Romance',\n",
      " 'title': '10 Things I Hate About You (1999)'}\n",
      "{'_id': 2085,\n",
      " 'genres': \"Animation|Children's\",\n",
      " 'title': '101 Dalmatians (1961)'}\n",
      "{'_id': 1367, 'genres': \"Children's|Comedy\", 'title': '101 Dalmatians (1996)'}\n",
      "{'_id': 1203, 'genres': 'Drama', 'title': '12 Angry Men (1957)'}\n",
      "{'_id': 2826,\n",
      " 'genres': 'Action|Horror|Thriller',\n",
      " 'title': '13th Warrior, The (1999)'}\n",
      "{'_id': 1609, 'genres': 'Drama', 'title': '187 (1997)'}\n",
      "{'_id': 999, 'genres': 'Crime', 'title': '2 Days in the Valley (1996)'}\n",
      "{'_id': 2492, 'genres': 'Comedy', 'title': '20 Dates (1998)'}\n",
      "{'_id': 1019,\n",
      " 'genres': \"Adventure|Children's|Fantasy|Sci-Fi\",\n",
      " 'title': '20,000 Leagues Under the Sea (1954)'}\n",
      "{'_id': 2504, 'genres': 'Comedy|Drama', 'title': '200 Cigarettes (1999)'}\n",
      "{'_id': 924,\n",
      " 'genres': 'Drama|Mystery|Sci-Fi|Thriller',\n",
      " 'title': '2001: A Space Odyssey (1968)'}\n",
      "{'_id': 2311, 'genres': 'Mystery|Sci-Fi', 'title': '2010 (1984)'}\n",
      "{'_id': 2444,\n",
      " 'genres': 'Comedy|Drama',\n",
      " 'title': '24 7: Twenty Four Seven (1997)'}\n",
      "{'_id': 2486, 'genres': 'Drama', 'title': '24-hour Woman (1998)'}\n",
      "{'_id': 3534, 'genres': 'Comedy', 'title': '28 Days (2000)'}\n",
      "{'_id': 1739,\n",
      " 'genres': \"Action|Children's\",\n",
      " 'title': '3 Ninjas: High Noon On Mega Mountain (1998)'}\n",
      "{'_id': 3322, 'genres': 'Comedy', 'title': '3 Strikes (2000)'}\n",
      "{'_id': 652, 'genres': 'Mystery', 'title': '301, 302 (1995)'}\n",
      "{'_id': 965, 'genres': 'Thriller', 'title': '39 Steps, The (1935)'}\n",
      "{'_id': 2731,\n",
      " 'genres': 'Drama',\n",
      " 'title': '400 Blows, The (Les Quatre cents coups) (1959)'}\n",
      "{'_id': 3077, 'genres': 'Documentary', 'title': '42 Up (1998)'}\n",
      "{'_id': 2475, 'genres': 'Action|Mystery|Thriller', 'title': '52 Pick-Up (1986)'}\n",
      "{'_id': 2188, 'genres': 'Drama', 'title': '54 (1998)'}\n",
      "{'_id': 3153,\n",
      " 'genres': 'Action|Adventure|Fantasy',\n",
      " 'title': '7th Voyage of Sinbad, The (1958)'}\n"
     ]
    }
   ],
   "source": [
    "for doc in movies_col.find(filter={}, sort=[('title', 1)], limit=30):\n",
    "    pprint(doc)"
   ]
  },
  {
   "cell_type": "markdown",
   "metadata": {},
   "source": [
    "**Q**: How many users have seen the movie \"Star Wars: Episode V - The Empire Strikes Back (1980)\" (`_id 1196`) ? The `movies` argument is an array so we should try the [elemMatch](https://docs.mongodb.com/manual/reference/operator/projection/elemMatch/) operator here."
   ]
  },
  {
   "cell_type": "code",
   "execution_count": 21,
   "metadata": {},
   "outputs": [
    {
     "data": {
      "text/plain": [
       "2990"
      ]
     },
     "execution_count": 21,
     "metadata": {},
     "output_type": "execute_result"
    }
   ],
   "source": [
    "users_col.count_documents({'movies': {'$elemMatch': {'movieid': 1196}}})"
   ]
  },
  {
   "cell_type": "markdown",
   "metadata": {},
   "source": [
    "**Q**: And how many gave it a rating of 1 or 2 ?"
   ]
  },
  {
   "cell_type": "code",
   "execution_count": 22,
   "metadata": {},
   "outputs": [
    {
     "data": {
      "text/plain": [
       "105"
      ]
     },
     "execution_count": 22,
     "metadata": {},
     "output_type": "execute_result"
    }
   ],
   "source": [
    "users_col.count_documents({'movies': {'$elemMatch': {'movieid': 1196, 'rating': {'$lte': 2}}}})"
   ]
  },
  {
   "cell_type": "markdown",
   "metadata": {},
   "source": [
    "### Updating data"
   ]
  },
  {
   "cell_type": "markdown",
   "metadata": {},
   "source": [
    "**Q**: Insert a new user with the properties `name`, `gender` ('M' or'F'), `occupation` and `age`, using the `insert_one()` command. Display it with `find_one()`."
   ]
  },
  {
   "cell_type": "code",
   "execution_count": 23,
   "metadata": {},
   "outputs": [
    {
     "data": {
      "text/plain": [
       "<pymongo.results.InsertOneResult at 0x7f5da8b67448>"
      ]
     },
     "execution_count": 23,
     "metadata": {},
     "output_type": "execute_result"
    }
   ],
   "source": [
    "users_col.insert_one({'name':'john woo', 'age': 70, 'gender': 'M', 'occupation': 'movie maker'})"
   ]
  },
  {
   "cell_type": "code",
   "execution_count": 24,
   "metadata": {},
   "outputs": [
    {
     "data": {
      "text/plain": [
       "{'_id': ObjectId('5c604113a1107a07f357959d'),\n",
       " 'name': 'john woo',\n",
       " 'age': 70,\n",
       " 'gender': 'M',\n",
       " 'occupation': 'movie maker'}"
      ]
     },
     "execution_count": 24,
     "metadata": {},
     "output_type": "execute_result"
    }
   ],
   "source": [
    "users_col.find_one({'name':'john woo'})"
   ]
  },
  {
   "cell_type": "markdown",
   "metadata": {},
   "source": [
    "**Q**: Add an appreciation on a viewed movie with `update_one()`, add the movies property containing a table with a document (`movieid`, `rating`, `timestamp` with the value `datetime.datetime.utcnow()`).\n",
    "\n",
    "You will need to read the documentation on [update operators](https://docs.mongodb.org/manual/reference/operator/update/)."
   ]
  },
  {
   "cell_type": "code",
   "execution_count": 25,
   "metadata": {},
   "outputs": [
    {
     "data": {
      "text/plain": [
       "<pymongo.results.UpdateResult at 0x7f5db01b0f08>"
      ]
     },
     "execution_count": 25,
     "metadata": {},
     "output_type": "execute_result"
    }
   ],
   "source": [
    "users_col.update_one({'name': 'john woo'}, {'$set':{'movies':[{'movieid':1196, 'rating': 5, 'timestamp':datetime.datetime.utcnow()}]}})"
   ]
  },
  {
   "cell_type": "code",
   "execution_count": 26,
   "metadata": {},
   "outputs": [
    {
     "data": {
      "text/plain": [
       "{'_id': ObjectId('5c604113a1107a07f357959d'),\n",
       " 'name': 'john woo',\n",
       " 'age': 70,\n",
       " 'gender': 'M',\n",
       " 'occupation': 'movie maker',\n",
       " 'movies': [{'movieid': 1196,\n",
       "   'rating': 5,\n",
       "   'timestamp': datetime.datetime(2019, 2, 10, 15, 19, 47, 701000)}]}"
      ]
     },
     "execution_count": 26,
     "metadata": {},
     "output_type": "execute_result"
    }
   ],
   "source": [
    "users_col.find_one({'name':'john woo'})"
   ]
  },
  {
   "cell_type": "markdown",
   "metadata": {},
   "source": [
    "**Q**: Find the number of users who have declared a `programmer` occupation. Modify them so that they are `developer`. Verify your update."
   ]
  },
  {
   "cell_type": "code",
   "execution_count": 27,
   "metadata": {},
   "outputs": [
    {
     "data": {
      "text/plain": [
       "<pymongo.results.UpdateResult at 0x7f5db02658c8>"
      ]
     },
     "execution_count": 27,
     "metadata": {},
     "output_type": "execute_result"
    }
   ],
   "source": [
    "users_col.update_many({'occupation': 'programmer'}, {'$set': {'occupation': 'developer'}})"
   ]
  },
  {
   "cell_type": "code",
   "execution_count": 28,
   "metadata": {},
   "outputs": [
    {
     "data": {
      "text/plain": [
       "388"
      ]
     },
     "execution_count": 28,
     "metadata": {},
     "output_type": "execute_result"
    }
   ],
   "source": [
    "users_col.count_documents({'occupation': 'developer'})"
   ]
  },
  {
   "cell_type": "markdown",
   "metadata": {},
   "source": [
    "## II. Modelling a blog\n",
    "\n",
    "We will now model a blog using Mongo. \n",
    "\n",
    "First, switch to a new `Blog` database. Each blog post will have the following arguments:\n",
    "\n",
    "* The author (author field, string type)\n",
    "* The date (date field, string type in YYYY-MM-DD format)\n",
    "* The content (field content)\n",
    "* Tags (field tags, a string array)\n",
    "* A list of comments (field comments) containing:\n",
    " * The author (author field, string type)\n",
    " * The date (date field, string type in YYYY-MM-DD format)\n",
    " * The content (field content)\n"
   ]
  },
  {
   "cell_type": "markdown",
   "metadata": {},
   "source": [
    "**Q**: Create a first post by `rick`, on January 15th, with the tags `mongodb` and `nosql`."
   ]
  },
  {
   "cell_type": "code",
   "execution_count": null,
   "metadata": {},
   "outputs": [],
   "source": []
  },
  {
   "cell_type": "markdown",
   "metadata": {},
   "source": [
    "**Q**: Create a second post by `kate`, on January 21, with the tag `nosql` and a comment from `rick` on the same day."
   ]
  },
  {
   "cell_type": "code",
   "execution_count": null,
   "metadata": {},
   "outputs": [],
   "source": []
  },
  {
   "cell_type": "markdown",
   "metadata": {},
   "source": [
    "**Q**: Display the author of the last post with the tag `nosql`"
   ]
  },
  {
   "cell_type": "code",
   "execution_count": null,
   "metadata": {},
   "outputs": [],
   "source": []
  },
  {
   "cell_type": "markdown",
   "metadata": {},
   "source": [
    "**Q**: Add a comment by `jack` on January 25, to `kate`'s post"
   ]
  },
  {
   "cell_type": "code",
   "execution_count": null,
   "metadata": {},
   "outputs": [],
   "source": []
  },
  {
   "cell_type": "markdown",
   "metadata": {},
   "source": [
    "**Q**: Display all comments by `kate`"
   ]
  },
  {
   "cell_type": "code",
   "execution_count": null,
   "metadata": {},
   "outputs": [],
   "source": []
  },
  {
   "cell_type": "markdown",
   "metadata": {},
   "source": [
    "## Postquisites"
   ]
  },
  {
   "cell_type": "code",
   "execution_count": 29,
   "metadata": {},
   "outputs": [
    {
     "name": "stdout",
     "output_type": "stream",
     "text": [
      "MongoDB shell version v4.0.6\n",
      "connecting to: mongodb://127.0.0.1:27017/test_database?gssapiServiceName=mongodb\n",
      "Implicit session: session { \"id\" : UUID(\"f5a7506b-1b49-43ef-8a31-e1be465931bc\") }\n",
      "MongoDB server version: 4.0.6\n",
      "{ \"dropped\" : \"test_database\", \"ok\" : 1 }\n"
     ]
    }
   ],
   "source": [
    "!mongo test_database --eval 'db.dropDatabase()'"
   ]
  },
  {
   "cell_type": "code",
   "execution_count": 30,
   "metadata": {},
   "outputs": [
    {
     "name": "stdout",
     "output_type": "stream",
     "text": [
      "MongoDB shell version v4.0.6\n",
      "connecting to: mongodb://127.0.0.1:27017/MovieLens?gssapiServiceName=mongodb\n",
      "Implicit session: session { \"id\" : UUID(\"d79acb93-617f-40c7-b82b-6b5cbcb3568b\") }\n",
      "MongoDB server version: 4.0.6\n",
      "{ \"dropped\" : \"MovieLens\", \"ok\" : 1 }\n"
     ]
    }
   ],
   "source": [
    "!mongo MovieLens --eval 'db.dropDatabase()'"
   ]
  },
  {
   "cell_type": "code",
   "execution_count": 31,
   "metadata": {},
   "outputs": [
    {
     "name": "stdout",
     "output_type": "stream",
     "text": [
      "MongoDB shell version v4.0.6\n",
      "connecting to: mongodb://127.0.0.1:27017/Blog?gssapiServiceName=mongodb\n",
      "Implicit session: session { \"id\" : UUID(\"cee4f347-6f42-4f77-95e0-e5fa85c87957\") }\n",
      "MongoDB server version: 4.0.6\n",
      "{ \"ok\" : 1 }\n"
     ]
    }
   ],
   "source": [
    "!mongo Blog --eval 'db.dropDatabase()'"
   ]
  },
  {
   "cell_type": "code",
   "execution_count": null,
   "metadata": {},
   "outputs": [],
   "source": []
  }
 ],
 "metadata": {
  "kernelspec": {
   "display_name": "Python 3",
   "language": "python",
   "name": "python3"
  },
  "language_info": {
   "codemirror_mode": {
    "name": "ipython",
    "version": 3
   },
   "file_extension": ".py",
   "mimetype": "text/x-python",
   "name": "python",
   "nbconvert_exporter": "python",
   "pygments_lexer": "ipython3",
   "version": "3.6.8"
  }
 },
 "nbformat": 4,
 "nbformat_minor": 2
}
